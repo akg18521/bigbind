{
 "cells": [
  {
   "cell_type": "code",
   "execution_count": 1,
   "id": "1c1f277f-839f-4dfa-88bd-8ee0ee654e17",
   "metadata": {},
   "outputs": [],
   "source": [
    "import sys\n",
    "sys.path.append('../')\n",
    "\n",
    "%load_ext autoreload\n",
    "%autoreload 2"
   ]
  },
  {
   "cell_type": "code",
   "execution_count": 47,
   "id": "4da5c87b-0f13-4e4d-b84a-d17c13eebc07",
   "metadata": {},
   "outputs": [],
   "source": [
    "import numpy as np\n",
    "from collections import defaultdict\n",
    "\n",
    "import scipy.spatial as spa\n",
    "\n",
    "from Bio.PDB import get_surface, PDBParser, ShrakeRupley, PDBIO, Select\n",
    "from Bio.PDB.PDBExceptions import PDBConstructionWarning\n",
    "\n",
    "from bigbind import get_rec_coords, PocketSelect"
   ]
  },
  {
   "cell_type": "code",
   "execution_count": 98,
   "id": "7f04c629-cd7e-406e-b077-9e2e4430997a",
   "metadata": {},
   "outputs": [],
   "source": [
    "class Pocket:\n",
    "    \n",
    "    def __init__(self):\n",
    "        self.coords = []\n",
    "        self.radii = []\n",
    "        \n",
    "    def add_sphere(self, x, y, z, radius):\n",
    "        self.coords.append(np.array([x, y, z]))\n",
    "        self.radii.append(radius)\n",
    "        \n",
    "    def get_residues(self, res_indexes, res_coords, dist_cutoff):\n",
    "        mask = np.zeros(len(res_coords), dtype=bool)\n",
    "        for coord, radius in zip(self.coords, self.radii):\n",
    "            mask |= spa.distance.cdist(res_coords, np.array([coord])).min(axis=1) < radius + dist_cutoff\n",
    "        included = set(res_indexes[mask])\n",
    "        return included\n",
    "\n",
    "def get_pockets(pqr_fname):\n",
    "    pocket_dict = defaultdict(Pocket)\n",
    "    pqr = open(pqr_fname).read()\n",
    "    for line in pqr.splitlines():\n",
    "        if line.startswith(\"ATOM\"):\n",
    "            _, _,_, _, idx, x, y, z, _, r = line.split()\n",
    "            pocket_dict[int(idx)].add_sphere(float(x), float(y), float(z), float(r))\n",
    "    return pocket_dict\n",
    "pocket_dict = get_pockets(\"/home/boris/Data/BigBind/P06401/4apu_B_rec_out/4apu_B_rec_pockets.pqr\")\n",
    "# pocket_dict[1].get_residues(res_indexes, coords)"
   ]
  },
  {
   "cell_type": "code",
   "execution_count": 39,
   "id": "ca409a97-0743-4525-92eb-b490603bdea9",
   "metadata": {},
   "outputs": [],
   "source": [
    "biopython_parser = PDBParser()\n",
    "rec_file = \"/home/boris/Data/BigBind/P06401/4apu_B_rec.pdb\"\n",
    "structure = biopython_parser.get_structure('random_id', rec_file)\n",
    "rec = structure[0]"
   ]
  },
  {
   "cell_type": "code",
   "execution_count": 97,
   "id": "ce0ff476-6b72-445e-95fa-9b7883ebc190",
   "metadata": {},
   "outputs": [
    {
     "name": "stdout",
     "output_type": "stream",
     "text": [
      "1 26\n",
      "2 15\n",
      "3 6\n",
      "4 7\n",
      "5 8\n",
      "6 10\n",
      "7 10\n",
      "8 8\n",
      "9 10\n",
      "10 5\n",
      "11 9\n",
      "12 8\n",
      "13 4\n",
      "14 5\n",
      "15 11\n"
     ]
    }
   ],
   "source": [
    "out_folder = \"/home/boris/Data/BigBind/P06401/4apu_B_rec_out/\"\n",
    "res_indexes, coords = get_rec_coords(rec)\n",
    "for idx, pocket in pocket_dict.items():\n",
    "    included = pocket.get_residues(res_indexes, coords, 0)\n",
    "    io = PDBIO()\n",
    "    io.set_structure(structure)\n",
    "    out_file = f\"{out_folder}/pocket_{idx}.pdb\"\n",
    "    io.save(out_file, PocketSelect(included))\n",
    "    print(idx, len(included))"
   ]
  }
 ],
 "metadata": {
  "kernelspec": {
   "display_name": "Python 3 (ipykernel)",
   "language": "python",
   "name": "python3"
  },
  "language_info": {
   "codemirror_mode": {
    "name": "ipython",
    "version": 3
   },
   "file_extension": ".py",
   "mimetype": "text/x-python",
   "name": "python",
   "nbconvert_exporter": "python",
   "pygments_lexer": "ipython3",
   "version": "3.8.5"
  }
 },
 "nbformat": 4,
 "nbformat_minor": 5
}
