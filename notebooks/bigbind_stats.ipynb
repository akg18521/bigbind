{
 "cells": [
  {
   "cell_type": "code",
   "execution_count": 1,
   "id": "eeda0147-aecf-4c0f-a765-3f8d7918d0cc",
   "metadata": {},
   "outputs": [],
   "source": [
    "import sys\n",
    "sys.path.append('../')\n",
    "\n",
    "%load_ext autoreload\n",
    "%autoreload 2"
   ]
  },
  {
   "cell_type": "code",
   "execution_count": 154,
   "id": "21d1aa45-82e3-4b0f-a17b-61d66617ff0e",
   "metadata": {},
   "outputs": [],
   "source": [
    "from tqdm import tqdm\n",
    "from collections import defaultdict\n",
    "import numpy as np\n",
    "import yaml\n",
    "import pickle\n",
    "import pandas as pd\n",
    "from bigbind import *\n",
    "from run import *"
   ]
  },
  {
   "cell_type": "code",
   "execution_count": 3,
   "id": "6e25fcca-0ea7-4ad1-81db-284dd1a7fb0c",
   "metadata": {},
   "outputs": [],
   "source": [
    "with open(\"../cfg.yaml\", \"r\") as f:\n",
    "    cfg = yaml.safe_load(f)"
   ]
  },
  {
   "cell_type": "code",
   "execution_count": 208,
   "id": "f6edf553-c3ae-4f86-b87f-25d710991fcd",
   "metadata": {},
   "outputs": [],
   "source": [
    "activities_unfiltered = pd.read_csv(cfg[\"bigbind_folder\"] + \"/activities_unfiltered.csv\")\n",
    "\n",
    "# remove mixtures\n",
    "activities = activities_unfiltered[~activities_unfiltered[\"canonical_smiles\"].str.contains(\"\\.\")].reset_index(drop=True)\n",
    "\n",
    "# remove anything chembl thinks could be sketchy\n",
    "activities = activities.query(\"potential_duplicate == 0 and data_validity_comment == 'valid' and confidence_score >= 8 and standard_relation == '='\")\n",
    "\n",
    "# we don't have these values for everything after deduping so just drop em\n",
    "activities = activities.drop(columns=[\"compound_chembl_id\", \"potential_duplicate\", \"data_validity_comment\", \"confidence_score\", \"target_chembl_id\", \"target_type\", \"assay_id\"])\n",
    "\n",
    "# now we filter duplicates. For now, just use the median for all duplicated measurements\n",
    "dup_indexes = activities.duplicated(keep=False, subset=['canonical_smiles', 'protein_accession'])\n",
    "dup_df = activities[dup_indexes]\n",
    "\n",
    "dup_rows = defaultdict(list)\n",
    "\n",
    "# for smiles, uniprot, pchembl in zip(dup_df.canonical_smiles, dup_df.protein_accession, dup_df.pchembl_value):\n",
    "#     dup_values[(smiles, uniprot)].append(pchembl)\n",
    "for i, row in tqdm(dup_df.iterrows(), total=len(dup_df)):\n",
    "    dup_rows[(row['canonical_smiles'], row['protein_accession'])].append(row)\n",
    "\n",
    "activities = activities[~dup_indexes].reset_index(drop=True)\n",
    "\n",
    "new_data = {\n",
    "    \"canonical_smiles\": [],\n",
    "    \"standard_type\": [],\n",
    "    \"standard_relation\": [],\n",
    "    \"standard_value\": [],\n",
    "    \"standard_units\": [],\n",
    "    \"pchembl_value\": [],\n",
    "    \"protein_accession\": []\n",
    "}\n",
    "    \n",
    "for (smiles, uniprot), rows in tqdm(dup_rows.items()):\n",
    "    st_types = { r.standard_type for r in rows }\n",
    "    if len(st_types) == 1:\n",
    "        st_type = next(iter(st_types))\n",
    "    else:\n",
    "        st_type = \"mixed\"\n",
    "    pchembl_values = [ r.pchembl_value for r in rows ]\n",
    "    final_pchembl = np.median(pchembl_values)\n",
    "    final_nM = 10**(9-final_pchembl)\n",
    "    new_data[\"canonical_smiles\"].append(smiles)\n",
    "    new_data[\"standard_type\"].append(st_type)\n",
    "    new_data[\"standard_relation\"].append(\"=\")\n",
    "    new_data[\"standard_value\"].append(final_nM)\n",
    "    new_data[\"standard_units\"].append('nM')\n",
    "    new_data[\"pchembl_value\"].append(final_pchembl)\n",
    "    new_data[\"protein_accession\"].append(uniprot)\n",
    "\n",
    "new_data_df = pd.DataFrame(new_data)\n",
    "activities = pd.concat([activities, new_data_df])"
   ]
  }
 ],
 "metadata": {
  "kernelspec": {
   "display_name": "Python 3 (ipykernel)",
   "language": "python",
   "name": "python3"
  },
  "language_info": {
   "codemirror_mode": {
    "name": "ipython",
    "version": 3
   },
   "file_extension": ".py",
   "mimetype": "text/x-python",
   "name": "python",
   "nbconvert_exporter": "python",
   "pygments_lexer": "ipython3",
   "version": "3.8.5"
  }
 },
 "nbformat": 4,
 "nbformat_minor": 5
}
