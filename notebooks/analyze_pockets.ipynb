{
 "cells": [
  {
   "cell_type": "code",
   "execution_count": 1,
   "id": "1c1f277f-839f-4dfa-88bd-8ee0ee654e17",
   "metadata": {},
   "outputs": [],
   "source": [
    "import sys\n",
    "sys.path.append('../')\n",
    "\n",
    "%load_ext autoreload\n",
    "%autoreload 2"
   ]
  },
  {
   "cell_type": "code",
   "execution_count": 2,
   "id": "4da5c87b-0f13-4e4d-b84a-d17c13eebc07",
   "metadata": {},
   "outputs": [],
   "source": [
    "import numpy as np\n",
    "from collections import defaultdict\n",
    "import yaml\n",
    "from tqdm import tqdm\n",
    "import pickle\n",
    "from glob import glob\n",
    "import matplotlib.pyplot as plt\n",
    "\n",
    "import scipy.spatial as spa\n",
    "\n",
    "from Bio.PDB import get_surface, PDBParser, ShrakeRupley, PDBIO, Select\n",
    "from Bio.PDB.PDBExceptions import PDBConstructionWarning\n",
    "\n",
    "from bigbind import get_rec_coords, PocketSelect"
   ]
  },
  {
   "cell_type": "code",
   "execution_count": 3,
   "id": "8fa571db-0e39-416f-bde0-cc0fe6b0712b",
   "metadata": {},
   "outputs": [],
   "source": [
    "with open(\"cfg.yaml\", \"r\") as f:\n",
    "    cfg = yaml.safe_load(f)"
   ]
  },
  {
   "cell_type": "code",
   "execution_count": 4,
   "id": "ce0ff476-6b72-445e-95fa-9b7883ebc190",
   "metadata": {},
   "outputs": [
    {
     "name": "stderr",
     "output_type": "stream",
     "text": [
      "100%|███████████████████████████████████████████████████████████████████████████████████| 23290/23290 [00:47<00:00, 494.36it/s]\n"
     ]
    }
   ],
   "source": [
    "all_overlaps = []\n",
    "for fname in tqdm(glob(cfg[\"cache_folder\"] + \"/*_pocket_overlaps.pkl\")):\n",
    "    with open(fname, \"rb\") as f:\n",
    "        all_overlaps.append(pickle.load(f))"
   ]
  },
  {
   "cell_type": "code",
   "execution_count": 5,
   "id": "cea2c7fa-3c41-420b-a626-c6d9554d13e2",
   "metadata": {},
   "outputs": [
    {
     "name": "stderr",
     "output_type": "stream",
     "text": [
      "100%|████████████████████████████████████████████████████████████████████████████████| 23290/23290 [00:00<00:00, 121431.97it/s]\n"
     ]
    },
    {
     "name": "stdout",
     "output_type": "stream",
     "text": [
      "No pockets:  0.026062687848862173\n",
      "Only one pocket:  0.3377415199656505\n",
      "2x fraction:  0.8174748089538107\n"
     ]
    },
    {
     "data": {
      "text/plain": [
       "(array([7353., 1762., 1173.,  971.,  837.,  663.,  631.,  545.,  435.,\n",
       "         417.]),\n",
       " array([1.14047193e-05, 1.00010264e-01, 2.00009124e-01, 3.00007983e-01,\n",
       "        4.00006843e-01, 5.00005702e-01, 6.00004562e-01, 7.00003421e-01,\n",
       "        8.00002281e-01, 9.00001140e-01, 1.00000000e+00]),\n",
       " <BarContainer object of 10 artists>)"
      ]
     },
     "execution_count": 5,
     "metadata": {},
     "output_type": "execute_result"
    },
    {
     "data": {
      "image/png": "[encoded data removed]",
      "text/plain": [
       "<Figure size 432x288 with 1 Axes>"
      ]
     },
     "metadata": {
      "needs_background": "light"
     },
     "output_type": "display_data"
    }
   ],
   "source": [
    "no_pockets = 0\n",
    "only_one = 0\n",
    "ratios = []\n",
    "for overlaps in tqdm(all_overlaps):\n",
    "    olaps_sorted = sorted(overlaps.items(), key = lambda t: -t[1])\n",
    "    if len(olaps_sorted) < 2: continue\n",
    "    (_, top), (_, second) = olaps_sorted[:2]\n",
    "    if top == 0:\n",
    "        no_pockets += 1\n",
    "    else:\n",
    "        if second == 0:\n",
    "            only_one += 1\n",
    "        else:\n",
    "            ratios.append(second/top)\n",
    "ratios = np.array(ratios)\n",
    "            \n",
    "print(\"No pockets: \", no_pockets/len(all_overlaps))\n",
    "print(\"Only one pocket: \", only_one/len(all_overlaps))\n",
    "print(\"2x fraction: \", sum(ratios < 0.5)/len(ratios))\n",
    "plt.hist(ratios)"
   ]
  }
 ],
 "metadata": {
  "kernelspec": {
   "display_name": "Python 3 (ipykernel)",
   "language": "python",
   "name": "python3"
  },
  "language_info": {
   "codemirror_mode": {
    "name": "ipython",
    "version": 3
   },
   "file_extension": ".py",
   "mimetype": "text/x-python",
   "name": "python",
   "nbconvert_exporter": "python",
   "pygments_lexer": "ipython3",
   "version": "3.8.5"
  }
 },
 "nbformat": 4,
 "nbformat_minor": 5
}
