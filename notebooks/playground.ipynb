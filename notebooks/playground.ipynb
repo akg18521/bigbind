{
 "cells": [
  {
   "cell_type": "code",
   "execution_count": 1,
   "id": "bfe3b663-057e-44e3-b52d-abf23d0c7d46",
   "metadata": {},
   "outputs": [],
   "source": [
    "import sys\n",
    "sys.path.append('../')\n",
    "\n",
    "%load_ext autoreload\n",
    "%autoreload 2"
   ]
  },
  {
   "cell_type": "code",
   "execution_count": 2,
   "id": "5496069d-db85-43f5-b1c2-2d5f1f33be2a",
   "metadata": {},
   "outputs": [],
   "source": [
    "import yaml\n",
    "import random\n",
    "import json\n",
    "from copy import copy\n",
    "from rdkit import Chem\n",
    "from rdkit.Chem import PandasTools\n",
    "from rdkit.Chem import rdFingerprintGenerator\n",
    "from rdkit import DataStructs\n",
    "\n",
    "from collections import defaultdict\n",
    "from probis import *\n",
    "from run import *"
   ]
  },
  {
   "cell_type": "code",
   "execution_count": 3,
   "id": "181e9fc0-832a-470c-b97c-8a089f2de384",
   "metadata": {},
   "outputs": [],
   "source": [
    "with open(\"../cfg.yaml\", \"r\") as f:\n",
    "    cfg = yaml.safe_load(f)"
   ]
  },
  {
   "cell_type": "code",
   "execution_count": 4,
   "id": "4b5ce291",
   "metadata": {},
   "outputs": [
    {
     "name": "stdout",
     "output_type": "stream",
     "text": [
      "Using cached data from get_crossdocked_chembl_activities\n"
     ]
    }
   ],
   "source": [
    "activities_unfiltered = get_crossdocked_chembl_activities(cfg)"
   ]
  },
  {
   "cell_type": "code",
   "execution_count": 127,
   "id": "c4f2ff5a",
   "metadata": {},
   "outputs": [],
   "source": [
    "class timeout:\n",
    "    def __init__(self, seconds, error_message='Timeout'):\n",
    "        self.seconds = seconds\n",
    "        self.error_message = error_message\n",
    "    def handle_timeout(self, signum, frame):\n",
    "        raise TimeoutError(self.error_message)\n",
    "    def __enter__(self):\n",
    "        signal.signal(signal.SIGALRM, self.handle_timeout)\n",
    "        signal.alarm(self.seconds)\n",
    "    def __exit__(self, type, value, traceback):\n",
    "        signal.alarm(0)"
   ]
  },
  {
   "cell_type": "code",
   "execution_count": 142,
   "id": "74296fdb",
   "metadata": {},
   "outputs": [
    {
     "name": "stderr",
     "output_type": "stream",
     "text": [
      "  0%|          | 0/160456 [00:00<?, ?it/s]"
     ]
    },
    {
     "name": "stdout",
     "output_type": "stream",
     "text": [
      "5.52\n"
     ]
    },
    {
     "name": "stderr",
     "output_type": "stream",
     "text": [
      "\n"
     ]
    }
   ],
   "source": [
    "for (smiles, uniprot), rows in tqdm(dup_rows.items()):\n",
    "    st_types = [ r.standard_type for r in rows ]\n",
    "    pchembl_values = [ r.pchembl_value for r in rows ]\n",
    "\n",
    "    # find the acitvities of k nearest neighbors to the chemical in question\n",
    "    sim_cutoff = 0.5\n",
    "    k = 5\n",
    "\n",
    "    # janky rlu cache\n",
    "    if len(uniprot2df) > 5:\n",
    "        # first added uniprot, since dicts preserve addition order\n",
    "        key = next(iter(uniprot2df))\n",
    "        del uniprot2df[key]\n",
    "\n",
    "    if uniprot in uniprot2df:\n",
    "        df = uniprot2df[uniprot]\n",
    "    else:\n",
    "        df = copy(activities_unfiltered.query(\"protein_accession == @uniprot\")).reset_index(drop=True)\n",
    "        PandasTools.AddMoleculeColumnToFrame(df,smilesCol='canonical_smiles')\n",
    "        mfp2_fps = rdFingerprintGenerator.GetFPs(list(df['ROMol']))\n",
    "        df['fp'] = mfp2_fps\n",
    "        query_fp = next(iter(df.query(\"canonical_smiles == @smiles\").fp))\n",
    "        similarity = DataStructs.BulkTanimotoSimilarity(query_fp ,df['fp'])\n",
    "        df[\"similarity\"] = similarity\n",
    "        uniprot2df[uniprot] = df\n",
    "\n",
    "    near_pchembls = []\n",
    "    near_sims = []\n",
    "    for i, row in df.sort_values(by='similarity', ascending=False).iterrows():\n",
    "        if row.canonical_smiles == smiles: continue\n",
    "        if row.similarity < sim_cutoff: break\n",
    "        if len(near_pchembls) == k: break\n",
    "        near_pchembls.append(row.pchembl_value)\n",
    "        near_sims.append(row.similarity)\n",
    "\n",
    "    near_sims = np.array(near_sims)\n",
    "    near_pchembls = np.array(near_pchembls)\n",
    "\n",
    "    # if there's at least 1 found near activitiy, use the value closest\n",
    "    if len(near_pchembls) > 0:\n",
    "        # weighted averge\n",
    "        weights = np.exp(near_sims)/sum(np.exp(near_sims))\n",
    "        w_mean = sum(weights*near_pchembls)\n",
    "        final_pchembl = None\n",
    "        final_st_type = None\n",
    "        for pchembl, st_type in zip(pchembl_values, st_types):\n",
    "            if final_pchembl is None or abs(pchembl - w_mean) < abs(final_pchembl - w_mean):\n",
    "                final_pchembl = pchembl\n",
    "                final_st_type = st_type\n",
    "\n",
    "    print(final_pchembl)\n",
    "    break"
   ]
  }
 ],
 "metadata": {
  "kernelspec": {
   "display_name": "Python 3.8.5 ('chem')",
   "language": "python",
   "name": "python3"
  },
  "language_info": {
   "codemirror_mode": {
    "name": "ipython",
    "version": 3
   },
   "file_extension": ".py",
   "mimetype": "text/x-python",
   "name": "python",
   "nbconvert_exporter": "python",
   "pygments_lexer": "ipython3",
   "version": "3.8.5"
  },
  "vscode": {
   "interpreter": {
    "hash": "793ba03f2bf20f578292df94672cc007484e9fb1e9f785a224339478cf2774f8"
   }
  }
 },
 "nbformat": 4,
 "nbformat_minor": 5
}
