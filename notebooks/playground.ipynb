{
 "cells": [
  {
   "cell_type": "code",
   "execution_count": 1,
   "id": "bfe3b663-057e-44e3-b52d-abf23d0c7d46",
   "metadata": {},
   "outputs": [],
   "source": [
    "import sys\n",
    "sys.path.append('../')\n",
    "\n",
    "%load_ext autoreload\n",
    "%autoreload 2"
   ]
  },
  {
   "cell_type": "code",
   "execution_count": 2,
   "id": "5496069d-db85-43f5-b1c2-2d5f1f33be2a",
   "metadata": {},
   "outputs": [],
   "source": [
    "import yaml\n",
    "import random\n",
    "import json\n",
    "import numpy as np\n",
    "from copy import copy\n",
    "from rdkit import Chem\n",
    "from rdkit.Chem import PandasTools\n",
    "from rdkit.Chem import rdFingerprintGenerator\n",
    "from rdkit import DataStructs\n",
    "\n",
    "from collections import defaultdict\n",
    "from probis import *\n",
    "from run import *"
   ]
  },
  {
   "cell_type": "code",
   "execution_count": 3,
   "id": "181e9fc0-832a-470c-b97c-8a089f2de384",
   "metadata": {},
   "outputs": [],
   "source": [
    "with open(\"../cfg.yaml\", \"r\") as f:\n",
    "    cfg = yaml.safe_load(f)"
   ]
  },
  {
   "cell_type": "code",
   "execution_count": 4,
   "id": "392d20a5",
   "metadata": {},
   "outputs": [
    {
     "name": "stdout",
     "output_type": "stream",
     "text": [
      "Using cached data from get_rep_recs\n",
      "Using cached data from convert_inter_results_to_json\n",
      "Using cached data from save_all_mol_sdfs\n"
     ]
    }
   ],
   "source": [
    "pocket2rep_rec = get_rep_recs(cfg)\n",
    "probis_scores = convert_inter_results_to_json(cfg)\n",
    "smiles2filename = save_all_mol_sdfs(cfg)"
   ]
  },
  {
   "cell_type": "code",
   "execution_count": 5,
   "id": "571471dd",
   "metadata": {},
   "outputs": [],
   "source": [
    "big_clusters = get_clusters(cfg, pocket2rep_rec, probis_scores, z_cutoff=3.0)"
   ]
  },
  {
   "cell_type": "code",
   "execution_count": 6,
   "id": "9f8356d6",
   "metadata": {},
   "outputs": [],
   "source": [
    "val_df = pd.read_csv(cfg[\"bigbind_folder\"] + \"/activities_val.csv\")"
   ]
  },
  {
   "cell_type": "code",
   "execution_count": 7,
   "id": "f2315190",
   "metadata": {},
   "outputs": [
    {
     "data": {
      "text/plain": [
       "0        False\n",
       "1         True\n",
       "2        False\n",
       "3         True\n",
       "4         True\n",
       "         ...  \n",
       "88231    False\n",
       "88232    False\n",
       "88233     True\n",
       "88234     True\n",
       "88235     True\n",
       "Name: pchembl_value, Length: 88236, dtype: bool"
      ]
     },
     "execution_count": 7,
     "metadata": {},
     "output_type": "execute_result"
    }
   ],
   "source": [
    "val_df[\"pchembl_value\"] > 5.0"
   ]
  },
  {
   "cell_type": "code",
   "execution_count": 8,
   "id": "62156d7c",
   "metadata": {},
   "outputs": [],
   "source": [
    "df = val_df\n",
    "df[\"active\"] = df[\"pchembl_value\"] > 5.0"
   ]
  },
  {
   "cell_type": "code",
   "execution_count": 12,
   "id": "6a608b57",
   "metadata": {},
   "outputs": [
    {
     "name": "stderr",
     "output_type": "stream",
     "text": [
      "100%|██████████| 88236/88236 [00:09<00:00, 8955.08it/s] \n"
     ]
    }
   ],
   "source": [
    "from collections import defaultdict\n",
    "\n",
    "poc2cluster = {}\n",
    "for cluster in big_clusters:\n",
    "    for pocket in cluster:\n",
    "        poc2cluster[pocket] = cluster\n",
    "\n",
    "smiles2pockets = defaultdict(set)\n",
    "for i, row in tqdm(df.iterrows(), total=len(df)):\n",
    "    smiles2pockets[row.lig_smiles].add(row.pocket)"
   ]
  },
  {
   "cell_type": "code",
   "execution_count": 21,
   "id": "9f425895",
   "metadata": {},
   "outputs": [
    {
     "name": "stderr",
     "output_type": "stream",
     "text": [
      "100%|██████████| 115/115 [00:00<00:00, 293.77it/s]\n"
     ]
    }
   ],
   "source": [
    "lens = []\n",
    "for pocket in tqdm(df.pocket.unique()):\n",
    "    lens.append((pocket, len(df.query(\"pocket == @pocket\"))))"
   ]
  },
  {
   "cell_type": "code",
   "execution_count": 28,
   "id": "cfce675d",
   "metadata": {},
   "outputs": [
    {
     "data": {
      "text/plain": [
       "[('PRTK_PARAQ_106_384_pep_0', 1),\n",
       " ('FAB1_MYCTU_1_416_0', 1),\n",
       " ('FOLB_STAAU_1_121_0', 1),\n",
       " ('SAV_STRAV_73_165_0', 1),\n",
       " ('VGP_EBOZM_34_298_0', 1),\n",
       " ('ARS_PSEAE_1_536_0', 2),\n",
       " ('BLAC_BACLI_42_306_0', 3),\n",
       " ('HEM2_ECOLI_2_324_0', 3),\n",
       " ('GGTA1_BOVIN_80_367_0', 4),\n",
       " ('ISPD_ARATH_75_302_0', 4),\n",
       " ('NR1I3_MOUSE_114_358_0', 5),\n",
       " ('TPIS_HUMAN_38_286_0', 5),\n",
       " ('SCMU_MYCTU_34_199_0', 5),\n",
       " ('ARGI1_RAT_4_321_0', 6),\n",
       " ('VNN1_HUMAN_22_513_0', 6),\n",
       " ('CPXA_PSEPU_2_415_0', 8),\n",
       " ('RISB_MYCTU_1_160_0', 8),\n",
       " ('UPP1_HUMAN_1_310_0', 9),\n",
       " ('DNMT1_MOUSE_730_1609_0', 13),\n",
       " ('RORB_RAT_214_465_ligBind_0', 15),\n",
       " ('HAOX1_HUMAN_1_370_0', 16),\n",
       " ('RNAS1_BOVIN_42_150_0', 19),\n",
       " ('GSTA1_HUMAN_1_222_0', 20),\n",
       " ('TP53B_HUMAN_1484_1603_0', 21),\n",
       " ('PP1G_HUMAN_2_314_ligBind_0', 22),\n",
       " ('AMD_RAT_498_820_0', 23),\n",
       " ('DNPH1_RAT_9_152_0', 24),\n",
       " ('DSBA_ECOLI_20_208_0', 24),\n",
       " ('CPNS1_HUMAN_93_267_0', 25),\n",
       " ('BLAB_BACFG_18_249_0', 27),\n",
       " ('PTGIS_HUMAN_20_500_0', 29),\n",
       " ('BXA1_CLOBO_2_425_0', 29),\n",
       " ('RICI_RICCO_36_233_0', 30),\n",
       " ('1433S_HUMAN_1_233_0', 33),\n",
       " ('F261_HUMAN_251_441_0', 34),\n",
       " ('FOLR2_HUMAN_22_228_0', 37),\n",
       " ('FABH_ECOLI_1_317_0', 40),\n",
       " ('RHOA_HUMAN_1_185_0', 46),\n",
       " ('FABH_ENTFA_2_321_0', 47),\n",
       " ('SETD7_HUMAN_340_366_pep_0', 47),\n",
       " ('CYAA_BACAN_291_800_0', 52),\n",
       " ('FKBP4_HUMAN_9_144_0', 57),\n",
       " ('FOLR1_HUMAN_15_236_0', 58),\n",
       " ('TRAP1_HUMAN_60_294_0', 65),\n",
       " ('AT2A1_BOVIN_1_993_0', 76),\n",
       " ('ADHX_HUMAN_2_374_0', 82),\n",
       " ('PP1A_HUMAN_3_300_ligBind_0', 89),\n",
       " ('PYRD_RAT_30_395_0', 93),\n",
       " ('BMP2K_HUMAN_40_344_0', 96),\n",
       " ('TYTR_TRYBB_2_492_0', 99),\n",
       " ('SYK_HUMAN_69_581_0', 99),\n",
       " ('POL_HV1B1_501_599_0', 99),\n",
       " ('SMYD2_HUMAN_2_433_0', 102),\n",
       " ('STING_HUMAN_146_341_0', 102),\n",
       " ('DCLK1_HUMAN_370_649_0', 103),\n",
       " ('HPRT_HUMAN_2_218_0', 110),\n",
       " ('C1S_HUMAN_432_688_0', 115),\n",
       " ('RORA_HUMAN_270_523_0', 116),\n",
       " ('THER_GEOSE_236_490_0', 126),\n",
       " ('DYR_STAAU_2_158_0', 137),\n",
       " ('ST17B_HUMAN_24_329_0', 139),\n",
       " ('FDFT_HUMAN_32_370_0', 140),\n",
       " ('MK03_HUMAN_13_379_0', 149),\n",
       " ('1A02_HUMAN_25_199_pep_0', 154),\n",
       " ('AAK1_HUMAN_28_358_0', 155),\n",
       " ('DYRK2_HUMAN_145_550_0', 186),\n",
       " ('IMDH_CRYPV_1_400_0', 194),\n",
       " ('ERR1_HUMAN_192_423_0', 195),\n",
       " ('RARA_HUMAN_173_420_0', 217),\n",
       " ('LIMK2_HUMAN_330_632_0', 218),\n",
       " ('KPCL_HUMAN_332_683_0', 227),\n",
       " ('KS6A5_HUMAN_414_738_ATPsite_0', 232),\n",
       " ('KDM4A_HUMAN_1_358_0', 253),\n",
       " ('KDM5A_HUMAN_175_588_0', 289),\n",
       " ('TLR8_HUMAN_26_831_0', 328),\n",
       " ('NQO2_HUMAN_2_231_0', 330),\n",
       " ('DNMT1_HUMAN_1129_1600_catalytic_0', 334),\n",
       " ('RIPK1_HUMAN_1_294_0', 340),\n",
       " ('ANM5_HUMAN_2_637_0', 340),\n",
       " ('TOP1_HUMAN_202_765_0', 376),\n",
       " ('AGTR2_HUMAN_35_335_0', 401),\n",
       " ('TYSY_MOUSE_8_307_0', 440),\n",
       " ('PGH2_MOUSE_16_570_0', 472),\n",
       " ('MMP7_HUMAN_95_265_0', 485),\n",
       " ('PLM2_PLAFA_124_453_0', 578),\n",
       " ('KDM4C_HUMAN_4_348_0', 584),\n",
       " ('CBP_HUMAN_1079_1197_0', 604),\n",
       " ('PDK1_HUMAN_36_436_0', 609),\n",
       " ('M3K12_HUMAN_113_402_0', 655),\n",
       " ('CLK3_HUMAN_275_633_0', 672),\n",
       " ('NTRK2_HUMAN_526_822_0', 681),\n",
       " ('TNFA_HUMAN_78_233_0', 742),\n",
       " ('EPHB4_HUMAN_598_896_0', 758),\n",
       " ('GLSK_HUMAN_219_537_0', 797),\n",
       " ('MCR_HUMAN_724_984_ligBind_0', 915),\n",
       " ('MP2K1_HUMAN_61_390_0', 945),\n",
       " ('DHI1_MOUSE_25_291_0', 1052),\n",
       " ('CAH7_HUMAN_2_263_0', 1210),\n",
       " ('PGH1_SHEEP_29_592_0', 1389),\n",
       " ('KIT_HUMAN_550_935_0', 1412),\n",
       " ('ADA17_HUMAN_215_479_0', 1752),\n",
       " ('KS6B1_HUMAN_76_373_0', 1835),\n",
       " ('CRFR1_HUMAN_112_401_TM_0', 1837),\n",
       " ('MMP3_HUMAN_101_270_0', 1908),\n",
       " ('ERBB2_HUMAN_695_1029_0', 1991),\n",
       " ('ELNE_HUMAN_30_247_0', 2275),\n",
       " ('GRM5_HUMAN_568_835_0', 2528),\n",
       " ('AURKA_HUMAN_122_397_0', 3139),\n",
       " ('CAH12_HUMAN_29_291_0', 3576),\n",
       " ('MTOR_HUMAN_2113_2549_0', 4476),\n",
       " ('CAH9_HUMAN_136_392_0', 4508),\n",
       " ('POL_HV1H2_587_814_0', 4815),\n",
       " ('CAH2_HUMAN_2_260_0', 6441),\n",
       " ('VGFR2_HUMAN_808_1171_0', 8422),\n",
       " ('MK01_HUMAN_8_360_0', 15966)]"
      ]
     },
     "execution_count": 28,
     "metadata": {},
     "output_type": "execute_result"
    }
   ],
   "source": [
    "sorted(lens, key=lambda x: x[1])"
   ]
  },
  {
   "cell_type": "code",
   "execution_count": 29,
   "id": "cd863f8d",
   "metadata": {},
   "outputs": [
    {
     "data": {
      "text/plain": [
       "0.9532177630016623"
      ]
     },
     "execution_count": 29,
     "metadata": {},
     "output_type": "execute_result"
    }
   ],
   "source": [
    "act = df.query(\"pocket == 'VGFR2_HUMAN_808_1171_0'\").active\n",
    "sum(act)/len(act)"
   ]
  },
  {
   "cell_type": "code",
   "execution_count": 30,
   "id": "eb6dfece",
   "metadata": {},
   "outputs": [
    {
     "name": "stdout",
     "output_type": "stream",
     "text": [
      "2080 2275\n",
      "1781 1991\n",
      "396 401\n",
      "104 115\n",
      "3 3\n",
      "3946 4815\n",
      "21 25\n",
      "423 472\n",
      "903 915\n",
      "6184 6441\n",
      "4364 4508\n",
      "153 154\n",
      "3 5\n",
      "7 27\n",
      "134 137\n",
      "1824 1837\n",
      "724 1389\n",
      "4 8\n",
      "79 93\n",
      "260 376\n",
      "860 945\n",
      "1675 1752\n",
      "4156 4476\n",
      "30 57\n",
      "58 58\n",
      "8028 8422\n",
      "136 140\n",
      "15 16\n",
      "14 20\n",
      "83 110\n",
      "1700 1908\n",
      "410 485\n",
      "2460 2528\n",
      "273 330\n",
      "1368 1412\n",
      "5902 15966\n",
      "132 149\n",
      "220 227\n",
      "22 23\n",
      "538 578\n",
      "14 29\n",
      "211 217\n",
      "21 22\n",
      "584 742\n",
      "396 440\n",
      "84 126\n",
      "4 5\n",
      "1185 1210\n",
      "3507 3576\n",
      "222 232\n",
      "569 609\n",
      "1780 1835\n",
      "2969 3139\n",
      "192 195\n",
      "38 47\n",
      "680 758\n",
      "91 96\n",
      "149 155\n",
      "1043 1052\n",
      "253 334\n",
      "550 681\n",
      "1 5\n",
      "74 99\n",
      "82 116\n",
      "23 52\n",
      "81 99\n",
      "6 19\n",
      "22 33\n",
      "17 29\n",
      "121 139\n",
      "30 40\n",
      "1 2\n",
      "464 604\n",
      "101 103\n",
      "212 218\n",
      "334 340\n",
      "180 186\n",
      "669 672\n",
      "0 1\n",
      "182 253\n",
      "11 47\n",
      "1 8\n",
      "458 584\n",
      "45 76\n",
      "9 9\n",
      "62 89\n",
      "21 46\n",
      "655 655\n",
      "194 194\n",
      "301 328\n",
      "1 4\n",
      "4 30\n",
      "753 797\n",
      "1 1\n",
      "45 65\n",
      "4 4\n",
      "250 289\n",
      "7 21\n",
      "1 1\n",
      "329 340\n",
      "0 3\n",
      "37 37\n",
      "6 13\n",
      "20 24\n",
      "1 1\n",
      "14 24\n",
      "85 102\n",
      "17 34\n",
      "78 82\n",
      "63 99\n",
      "5 6\n",
      "4 15\n",
      "88 102\n",
      "1 1\n",
      "6 6\n"
     ]
    }
   ],
   "source": [
    "def make_screen_df(cfg, df, pocket, smiles2pockets, tot_len=500, max_actives=50):\n",
    "    poc_df = df.query(\"pocket == @pocket\")\n",
    "    active = poc_df.query(\"active\")\n",
    "    print(len(active), len(poc_df))\n",
    "\n",
    "for pocket in df.pocket.unique():\n",
    "    make_screen_df(cfg, df, pocket, smiles2pockets)"
   ]
  }
 ],
 "metadata": {
  "kernelspec": {
   "display_name": "Python 3.8.5 ('chem')",
   "language": "python",
   "name": "python3"
  },
  "language_info": {
   "codemirror_mode": {
    "name": "ipython",
    "version": 3
   },
   "file_extension": ".py",
   "mimetype": "text/x-python",
   "name": "python",
   "nbconvert_exporter": "python",
   "pygments_lexer": "ipython3",
   "version": "3.8.5"
  },
  "vscode": {
   "interpreter": {
    "hash": "793ba03f2bf20f578292df94672cc007484e9fb1e9f785a224339478cf2774f8"
   }
  }
 },
 "nbformat": 4,
 "nbformat_minor": 5
}
