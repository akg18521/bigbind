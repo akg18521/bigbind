{
 "cells": [
  {
   "cell_type": "code",
   "execution_count": 1,
   "id": "911fed0b-01e8-4c11-a16c-4822636d01ef",
   "metadata": {},
   "outputs": [],
   "source": [
    "import sys\n",
    "sys.path.append('../')\n",
    "\n",
    "%load_ext autoreload\n",
    "%autoreload 2"
   ]
  },
  {
   "cell_type": "code",
   "execution_count": 5,
   "id": "3ce668dc-8b61-4e4f-a905-5ba033135ca4",
   "metadata": {},
   "outputs": [],
   "source": [
    "import yaml\n",
    "import pickle\n",
    "import pandas as pd\n",
    "from bigbind import *\n",
    "from run import *"
   ]
  },
  {
   "cell_type": "code",
   "execution_count": 4,
   "id": "2a7cbdb8-a246-4551-a1a1-9e07186e4aea",
   "metadata": {},
   "outputs": [],
   "source": [
    "with open(\"../cfg.yaml\", \"r\") as f:\n",
    "    cfg = yaml.safe_load(f)"
   ]
  },
  {
   "cell_type": "code",
   "execution_count": 7,
   "id": "711df07a-4917-443e-8310-61145a5d6df3",
   "metadata": {},
   "outputs": [
    {
     "data": {
      "text/plain": [
       "'https://models.rcsb.org/v1/2y2b/ligand?auth_seq_id=1001&auth_asym_id=A&encoding=sdf&filename=lig.sdf'"
      ]
     },
     "execution_count": 7,
     "metadata": {},
     "output_type": "execute_result"
    }
   ],
   "source": [
    "get_lig_url(\"/home/boris/Data/CrossDocked/AMPD_CITFR_1_187_0/2y2b_mhi_lig.pdb\")"
   ]
  },
  {
   "cell_type": "code",
   "execution_count": 8,
   "id": "21d1098c-3265-47af-ae57-322288709838",
   "metadata": {},
   "outputs": [
    {
     "data": {
      "text/plain": [
       "'https://models.rcsb.org/v1/2y2b/ligand?auth_seq_id=202&label_asym_id=E&encoding=sdf&filename=2y2b_E_MHI.sdf'"
      ]
     },
     "execution_count": 8,
     "metadata": {},
     "output_type": "execute_result"
    }
   ],
   "source": [
    "# True ur:\n",
    "\"https://models.rcsb.org/v1/2y2b/ligand?auth_seq_id=202&label_asym_id=E&encoding=sdf&filename=2y2b_E_MHI.sdf\""
   ]
  }
 ],
 "metadata": {
  "kernelspec": {
   "display_name": "Python 3 (ipykernel)",
   "language": "python",
   "name": "python3"
  },
  "language_info": {
   "codemirror_mode": {
    "name": "ipython",
    "version": 3
   },
   "file_extension": ".py",
   "mimetype": "text/x-python",
   "name": "python",
   "nbconvert_exporter": "python",
   "pygments_lexer": "ipython3",
   "version": "3.8.5"
  }
 },
 "nbformat": 4,
 "nbformat_minor": 5
}
