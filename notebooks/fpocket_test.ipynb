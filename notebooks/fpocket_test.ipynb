{
 "cells": [
  {
   "cell_type": "code",
   "execution_count": 3,
   "id": "1c1f277f-839f-4dfa-88bd-8ee0ee654e17",
   "metadata": {},
   "outputs": [],
   "source": [
    "import sys\n",
    "sys.path.append('../')\n",
    "\n",
    "%load_ext autoreload\n",
    "%autoreload 2"
   ]
  },
  {
   "cell_type": "code",
   "execution_count": 4,
   "id": "4da5c87b-0f13-4e4d-b84a-d17c13eebc07",
   "metadata": {},
   "outputs": [],
   "source": [
    "import numpy as np\n",
    "from collections import defaultdict\n",
    "import trimesh\n",
    "import pygalmesh\n",
    "\n",
    "import scipy.spatial as spa\n",
    "\n",
    "from rdkit import Chem\n",
    "from Bio.PDB import get_surface, PDBParser, ShrakeRupley, PDBIO, Select\n",
    "from Bio.PDB.PDBExceptions import PDBConstructionWarning\n",
    "\n",
    "from pocket import *"
   ]
  },
  {
   "cell_type": "code",
   "execution_count": 5,
   "id": "83656f04-9d4c-47c6-a259-7f6424cabf82",
   "metadata": {},
   "outputs": [],
   "source": [
    "pqr_file = \"/home/boris/Data/BigBindCache/19gs_B_rec_out/19gs_B_rec_pockets.pqr\"\n",
    "pocket_dict = get_pockets(pqr_file)"
   ]
  },
  {
   "cell_type": "code",
   "execution_count": 22,
   "id": "c0e9557b-bb55-42b2-ab35-eced140b915f",
   "metadata": {},
   "outputs": [],
   "source": [
    "lig_files = ['/home/boris/Data/BigBind/P09211/13gs_gsh_lig.sdf', '/home/boris/Data/BigBind/P09211/3n9j_eaa_lig.sdf', '/home/boris/Data/BigBind/P09211/3kmo_eaa_lig.sdf', '/home/boris/Data/BigBind/P09211/3pgt_gbx_lig.sdf', '/home/boris/Data/BigBind/P09211/12gs_0hh_lig.sdf', '/home/boris/Data/BigBind/P09211/4gss_gtx_lig.sdf', '/home/boris/Data/BigBind/P09211/1pgt_gtx_lig.sdf', '/home/boris/Data/BigBind/P09211/1gss_lee_lig.sdf', '/home/boris/Data/BigBind/P09211/2pgt_gpr_lig.sdf', '/home/boris/Data/BigBind/P09211/1zgn_gsh_lig.sdf', '/home/boris/Data/BigBind/P09211/4pgt_gbx_lig.sdf', '/home/boris/Data/BigBind/P09211/3dgq_eaa_lig.sdf', '/home/boris/Data/BigBind/P09211/5l6x_6sg_lig.sdf', '/home/boris/Data/BigBind/P09211/3csh_lz6_lig.sdf', '/home/boris/Data/BigBind/P09211/1aqx_gtd_lig.sdf', '/home/boris/Data/BigBind/P09211/1px6_gsh_lig.sdf', '/home/boris/Data/BigBind/P09211/3csj_cbl_lig.sdf', '/home/boris/Data/BigBind/P09211/1aqv_0hg_lig.sdf', '/home/boris/Data/BigBind/P09211/19gs_gsh_lig.sdf', '/home/boris/Data/BigBind/P09211/5djl_gsh_lig.sdf', '/home/boris/Data/BigBind/P09211/13gs_sas_lig.sdf', '/home/boris/Data/BigBind/P09211/3gus_gsh_lig.sdf', '/home/boris/Data/BigBind/P09211/20gs_cbd_lig.sdf', '/home/boris/Data/BigBind/P09211/2a2r_gsn_lig.sdf', '/home/boris/Data/BigBind/P09211/10gs_vww_lig.sdf', '/home/boris/Data/BigBind/P09211/18gs_gdn_lig.sdf', '/home/boris/Data/BigBind/P09211/5ddl_5au_lig.sdf', '/home/boris/Data/BigBind/P09211/5jcw_gvx_lig.sdf', '/home/boris/Data/BigBind/P09211/9gss_gtx_lig.sdf', '/home/boris/Data/BigBind/P09211/3gus_n11_lig.sdf', '/home/boris/Data/BigBind/P09211/3ie3_n11_lig.sdf', '/home/boris/Data/BigBind/P09211/19gs_bsp_lig.sdf', '/home/boris/Data/BigBind/P09211/3csi_lz6_lig.sdf', '/home/boris/Data/BigBind/P09211/1lbk_gsh_lig.sdf', '/home/boris/Data/BigBind/P09211/3ie3_gsh_lig.sdf', '/home/boris/Data/BigBind/P09211/2j9h_gtx_lig.sdf', '/home/boris/Data/BigBind/P09211/3kmo_gsh_lig.sdf']"
   ]
  },
  {
   "cell_type": "code",
   "execution_count": 81,
   "id": "ea168322-f297-4843-a37c-4c2e832a7b73",
   "metadata": {},
   "outputs": [],
   "source": [
    "ligs = [ next(Chem.SDMolSupplier(lf)) for lf in lig_files ]"
   ]
  },
  {
   "cell_type": "code",
   "execution_count": 82,
   "id": "39694e6b-ac27-42b9-84a9-1af68c7fe478",
   "metadata": {},
   "outputs": [],
   "source": [
    "lig_volume = SphereVolume.from_mols(ligs)"
   ]
  },
  {
   "cell_type": "code",
   "execution_count": 118,
   "id": "eadcd367-75a7-48d2-8f64-ac118fdf624e",
   "metadata": {},
   "outputs": [
    {
     "name": "stdout",
     "output_type": "stream",
     "text": [
      "(array([ 9.544, -1.766, -7.471]), array([32.455, 13.146, 14.469]))\n",
      "(array([13.763, -4.088, 20.185]), array([31.464, 18.711, 39.613]))\n",
      "(array([ 9.544, -4.088, -7.471]), array([32.455, 18.711, 39.613]))\n"
     ]
    },
    {
     "data": {
      "text/plain": [
       "0.0"
      ]
     },
     "execution_count": 118,
     "metadata": {},
     "output_type": "execute_result"
    }
   ],
   "source": [
    "print(pocket_dict[1].get_bounding_box())\n",
    "print(lig_volume.get_bounding_box())\n",
    "print(lig_volume.get_union_bounding_box(pocket_dict[1]))\n",
    "pocket_dict[1].intersect_volume(lig_volume)"
   ]
  },
  {
   "cell_type": "code",
   "execution_count": 9,
   "id": "4703e2a2-48c8-4e3f-a031-f2889172a399",
   "metadata": {},
   "outputs": [
    {
     "name": "stdout",
     "output_type": "stream",
     "text": [
      "(70, 3) (62, 3)\n"
     ]
    },
    {
     "data": {
      "text/plain": [
       "(132, 3)"
      ]
     },
     "execution_count": 9,
     "metadata": {},
     "output_type": "execute_result"
    }
   ],
   "source": [
    "p1 = pocket_dict[1]\n",
    "p2 = pocket_dict[2]\n",
    "print(p1.coords.shape, p2.coords.shape)\n",
    "np.concatenate((p1.coords, p2.coords)).shape"
   ]
  }
 ],
 "metadata": {
  "kernelspec": {
   "display_name": "Python 3 (ipykernel)",
   "language": "python",
   "name": "python3"
  },
  "language_info": {
   "codemirror_mode": {
    "name": "ipython",
    "version": 3
   },
   "file_extension": ".py",
   "mimetype": "text/x-python",
   "name": "python",
   "nbconvert_exporter": "python",
   "pygments_lexer": "ipython3",
   "version": "3.8.5"
  }
 },
 "nbformat": 4,
 "nbformat_minor": 5
}
