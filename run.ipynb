{
 "cells": [
  {
   "cell_type": "code",
   "execution_count": 1,
   "id": "911fed0b-01e8-4c11-a16c-4822636d01ef",
   "metadata": {},
   "outputs": [],
   "source": [
    "import sys\n",
    "sys.path.append('../')\n",
    "\n",
    "%load_ext autoreload\n",
    "%autoreload 2"
   ]
  },
  {
   "cell_type": "code",
   "execution_count": 30,
   "id": "3ce668dc-8b61-4e4f-a905-5ba033135ca4",
   "metadata": {},
   "outputs": [],
   "source": [
    "import yaml\n",
    "import pickle\n",
    "import pandas as pd\n",
    "from run import *"
   ]
  },
  {
   "cell_type": "code",
   "execution_count": 33,
   "id": "2a7cbdb8-a246-4551-a1a1-9e07186e4aea",
   "metadata": {},
   "outputs": [],
   "source": [
    "with open(\"cfg.yaml\", \"r\") as f:\n",
    "    cfg = yaml.safe_load(f)"
   ]
  },
  {
   "cell_type": "code",
   "execution_count": null,
   "id": "711df07a-4917-443e-8310-61145a5d6df3",
   "metadata": {},
   "outputs": [],
   "source": [
    "crossdocked_types = cfg[\"crossdocked_folder\"] + \"/types/it2_tt_v1.1_completeset_train0.types\"\n",
    "\n",
    "all_rec_prefixes = set()\n",
    "all_lig_prefixes = set()\n",
    "num_chunks = 225838\n",
    "for i, chunk in tqdm(enumerate(pd.read_csv(crossdocked_types, sep=' ', names=[\"label\", \"binding_affinity\", \"crystal_rmsd\", \"rec_file\", \"lig_file\", \"vina_score\"], chunksize=100)), total=num_chunks):\n",
    "    lig_prefix = chunk[\"lig_file\"].apply(lambda lf: \"_\".join(lf.split(\"_\")[:-4]))\n",
    "    rec_prefix = chunk[\"rec_file\"].apply(lambda lf: \"_\".join(lf.split(\"_\")[:-1]))\n",
    "    for rec_prefix, lig_prefix in zip(rec_prefix, lig_prefix):\n",
    "        all_rec_prefixes.add(rec_prefix)\n",
    "        all_lig_prefixes.add(lig_prefix)"
   ]
  },
  {
   "cell_type": "code",
   "execution_count": 34,
   "id": "c0a412cc-58a2-42ad-9433-7c87112428b8",
   "metadata": {},
   "outputs": [],
   "source": [
    "out_file = cfg[\"cache_folder\"] + \"/\" + \"load_crossdocked_prefixes.pkl\"\n",
    "with open(out_file, \"wb\") as f:\n",
    "    pickle.dump((all_rec_prefixes, all_lig_prefixes), f)"
   ]
  }
 ],
 "metadata": {
  "kernelspec": {
   "display_name": "Python 3 (ipykernel)",
   "language": "python",
   "name": "python3"
  },
  "language_info": {
   "codemirror_mode": {
    "name": "ipython",
    "version": 3
   },
   "file_extension": ".py",
   "mimetype": "text/x-python",
   "name": "python",
   "nbconvert_exporter": "python",
   "pygments_lexer": "ipython3",
   "version": "3.8.5"
  }
 },
 "nbformat": 4,
 "nbformat_minor": 5
}
